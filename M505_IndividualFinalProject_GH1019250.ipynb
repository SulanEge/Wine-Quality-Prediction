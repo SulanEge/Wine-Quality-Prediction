{
 "cells": [
  {
   "cell_type": "markdown",
   "id": "44728cfd",
   "metadata": {},
   "source": [
    "M505 Individual Final Project\n",
    "\n",
    "Wine Quality Prediction Task\n",
    "\n",
    "Student ID: GH1019250"
   ]
  },
  {
   "cell_type": "markdown",
   "id": "a775efaf",
   "metadata": {},
   "source": [
    "# Introduction\n",
    "\n",
    "The company \"Quinta da Aveleda\" which is a Portuguese Wine Producer, located in the historic Minho Province, contacted us to consult about a Wine Quality Prediction task. The company is established 150 years ago, and since that time they have proven their quality by becoming the largest \"Vinho Verde\" exporter in the country. \n",
    "\n",
    "The Portuguese wine producer \"Quinta da Aveleda\" has a dataset which contains information about red wine variants which are produced in \"Vinho Verde\". The dataset contains the information of different chemicals such as citric acid, chlorides, suplhates etc. which are present in the wine and their effects on the quality of wine.\n",
    "\n",
    "Our purpose is to implement a pipeline, which will give us the best wine quality score prediction results. This project will be implemented for further production of new wines with the brand \"Quinta da Aveleda\". \n",
    "\n",
    "In our case, predicting quality can be considered as both classification or regression. This will be discussed later on this report.\n",
    "\n",
    "Our data frame contains the following information:\n",
    "\n",
    "Input variables (based on physicochemical tests):\\\n",
    "1 - fixed acidity                       __*float64*__\\\n",
    "2 - volatile acidity                    __*float64*__\\\n",
    "3 - citric acid                         __*float64*__\\\n",
    "4 - residual sugar                      __*float64*__\\\n",
    "5 - chlorides                           __*float64*__\\\n",
    "6 - free sulfur dioxide                 __*float64*__\\\n",
    "7 - total sulfur dioxide                __*float64*__\\\n",
    "8 - density                             __*float64*__\\\n",
    "9 - pH                                  __*float64*__\\\n",
    "10 - sulphates                          __*float64*__\\\n",
    "11 - alcohol                            __*float64*__\n",
    "\n",
    "Output variable (based on sensory data):\\\n",
    "12 - quality (score between 0 and 10)   __*int64*__\n",
    "\n",
    "The feature data(input variables) will be used to predict a target label(output variable). For this purpose, we will start with knowing our dataset, then get it ready to train models, predict and test will follow further. At the end, we are going to discuss about our results.\n",
    "\n",
    "Note: You can reach the dataset from the following link: https://www.kaggle.com/yasserh/wine-quality-dataset "
   ]
  },
  {
   "cell_type": "markdown",
   "id": "cd0e22e6",
   "metadata": {},
   "source": [
    "# Building the Pipeline\n",
    "\n",
    "## Loading Libraries\n",
    "\n",
    "To start our task, we should import the libraries and functions which will be used in our pipeline. In our task we will be using some general libraries like pandas, numpy and sklearn. "
   ]
  },
  {
   "cell_type": "code",
   "execution_count": 3,
   "id": "7b0ec4f5",
   "metadata": {},
   "outputs": [],
   "source": [
    "#Importing General Libraries\n",
    "import pandas as pd\n",
    "import numpy as np\n",
    "import warnings\n",
    "\n",
    "#Importing Splitting Function\n",
    "from sklearn.model_selection import train_test_split\n",
    "\n",
    "#Importing Feature Engineering Methods\n",
    "from sklearn.preprocessing import StandardScaler\n",
    "from imblearn.over_sampling import RandomOverSampler\n",
    "\n",
    "#Importing Regression Methods\n",
    "from sklearn.neighbors import KNeighborsClassifier\n",
    "from sklearn.svm import SVC\n",
    "from sklearn.tree import DecisionTreeClassifier\n",
    "from sklearn.ensemble import RandomForestClassifier\n",
    "\n",
    "#Importing Test Methods\n",
    "from sklearn.metrics import accuracy_score, confusion_matrix, classification_report\n",
    "\n",
    "#Importing Tuning Method\n",
    "from sklearn.model_selection import GridSearchCV\n",
    "\n",
    "#Importing Visualization Methods\n",
    "import seaborn as sns\n",
    "import matplotlib.pyplot as plt\n",
    "\n",
    "#Warning Filter\n",
    "warnings.filterwarnings('ignore')"
   ]
  },
  {
   "cell_type": "markdown",
   "id": "0439f40f",
   "metadata": {},
   "source": [
    "## Importing dataset\n",
    "\n",
    "To import our dataset, we will use read_csv function of pandas library, since our dataset is a \".csv\" file.\n",
    "\n",
    "After importing the dataset, we are setting the first index as \"ID\". Then we are printing the dimensions and the first 10 rows of the dataset, to have a general idea about the data."
   ]
  },
  {
   "cell_type": "code",
   "execution_count": 4,
   "id": "509dbf69",
   "metadata": {
    "scrolled": true
   },
   "outputs": [
    {
     "name": "stdout",
     "output_type": "stream",
     "text": [
      "Dimensions of the Dataset (1143, 12)\n"
     ]
    },
    {
     "data": {
      "text/html": [
       "<div>\n",
       "<style scoped>\n",
       "    .dataframe tbody tr th:only-of-type {\n",
       "        vertical-align: middle;\n",
       "    }\n",
       "\n",
       "    .dataframe tbody tr th {\n",
       "        vertical-align: top;\n",
       "    }\n",
       "\n",
       "    .dataframe thead th {\n",
       "        text-align: right;\n",
       "    }\n",
       "</style>\n",
       "<table border=\"1\" class=\"dataframe\">\n",
       "  <thead>\n",
       "    <tr style=\"text-align: right;\">\n",
       "      <th></th>\n",
       "      <th>fixed acidity</th>\n",
       "      <th>volatile acidity</th>\n",
       "      <th>citric acid</th>\n",
       "      <th>residual sugar</th>\n",
       "      <th>chlorides</th>\n",
       "      <th>free sulfur dioxide</th>\n",
       "      <th>total sulfur dioxide</th>\n",
       "      <th>density</th>\n",
       "      <th>pH</th>\n",
       "      <th>sulphates</th>\n",
       "      <th>alcohol</th>\n",
       "      <th>quality</th>\n",
       "    </tr>\n",
       "    <tr>\n",
       "      <th>Id</th>\n",
       "      <th></th>\n",
       "      <th></th>\n",
       "      <th></th>\n",
       "      <th></th>\n",
       "      <th></th>\n",
       "      <th></th>\n",
       "      <th></th>\n",
       "      <th></th>\n",
       "      <th></th>\n",
       "      <th></th>\n",
       "      <th></th>\n",
       "      <th></th>\n",
       "    </tr>\n",
       "  </thead>\n",
       "  <tbody>\n",
       "    <tr>\n",
       "      <th>0</th>\n",
       "      <td>7.4</td>\n",
       "      <td>0.70</td>\n",
       "      <td>0.00</td>\n",
       "      <td>1.9</td>\n",
       "      <td>0.076</td>\n",
       "      <td>11.0</td>\n",
       "      <td>34.0</td>\n",
       "      <td>0.9978</td>\n",
       "      <td>3.51</td>\n",
       "      <td>0.56</td>\n",
       "      <td>9.4</td>\n",
       "      <td>5</td>\n",
       "    </tr>\n",
       "    <tr>\n",
       "      <th>1</th>\n",
       "      <td>7.8</td>\n",
       "      <td>0.88</td>\n",
       "      <td>0.00</td>\n",
       "      <td>2.6</td>\n",
       "      <td>0.098</td>\n",
       "      <td>25.0</td>\n",
       "      <td>67.0</td>\n",
       "      <td>0.9968</td>\n",
       "      <td>3.20</td>\n",
       "      <td>0.68</td>\n",
       "      <td>9.8</td>\n",
       "      <td>5</td>\n",
       "    </tr>\n",
       "    <tr>\n",
       "      <th>2</th>\n",
       "      <td>7.8</td>\n",
       "      <td>0.76</td>\n",
       "      <td>0.04</td>\n",
       "      <td>2.3</td>\n",
       "      <td>0.092</td>\n",
       "      <td>15.0</td>\n",
       "      <td>54.0</td>\n",
       "      <td>0.9970</td>\n",
       "      <td>3.26</td>\n",
       "      <td>0.65</td>\n",
       "      <td>9.8</td>\n",
       "      <td>5</td>\n",
       "    </tr>\n",
       "    <tr>\n",
       "      <th>3</th>\n",
       "      <td>11.2</td>\n",
       "      <td>0.28</td>\n",
       "      <td>0.56</td>\n",
       "      <td>1.9</td>\n",
       "      <td>0.075</td>\n",
       "      <td>17.0</td>\n",
       "      <td>60.0</td>\n",
       "      <td>0.9980</td>\n",
       "      <td>3.16</td>\n",
       "      <td>0.58</td>\n",
       "      <td>9.8</td>\n",
       "      <td>6</td>\n",
       "    </tr>\n",
       "    <tr>\n",
       "      <th>4</th>\n",
       "      <td>7.4</td>\n",
       "      <td>0.70</td>\n",
       "      <td>0.00</td>\n",
       "      <td>1.9</td>\n",
       "      <td>0.076</td>\n",
       "      <td>11.0</td>\n",
       "      <td>34.0</td>\n",
       "      <td>0.9978</td>\n",
       "      <td>3.51</td>\n",
       "      <td>0.56</td>\n",
       "      <td>9.4</td>\n",
       "      <td>5</td>\n",
       "    </tr>\n",
       "    <tr>\n",
       "      <th>5</th>\n",
       "      <td>7.4</td>\n",
       "      <td>0.66</td>\n",
       "      <td>0.00</td>\n",
       "      <td>1.8</td>\n",
       "      <td>0.075</td>\n",
       "      <td>13.0</td>\n",
       "      <td>40.0</td>\n",
       "      <td>0.9978</td>\n",
       "      <td>3.51</td>\n",
       "      <td>0.56</td>\n",
       "      <td>9.4</td>\n",
       "      <td>5</td>\n",
       "    </tr>\n",
       "    <tr>\n",
       "      <th>6</th>\n",
       "      <td>7.9</td>\n",
       "      <td>0.60</td>\n",
       "      <td>0.06</td>\n",
       "      <td>1.6</td>\n",
       "      <td>0.069</td>\n",
       "      <td>15.0</td>\n",
       "      <td>59.0</td>\n",
       "      <td>0.9964</td>\n",
       "      <td>3.30</td>\n",
       "      <td>0.46</td>\n",
       "      <td>9.4</td>\n",
       "      <td>5</td>\n",
       "    </tr>\n",
       "    <tr>\n",
       "      <th>7</th>\n",
       "      <td>7.3</td>\n",
       "      <td>0.65</td>\n",
       "      <td>0.00</td>\n",
       "      <td>1.2</td>\n",
       "      <td>0.065</td>\n",
       "      <td>15.0</td>\n",
       "      <td>21.0</td>\n",
       "      <td>0.9946</td>\n",
       "      <td>3.39</td>\n",
       "      <td>0.47</td>\n",
       "      <td>10.0</td>\n",
       "      <td>7</td>\n",
       "    </tr>\n",
       "    <tr>\n",
       "      <th>8</th>\n",
       "      <td>7.8</td>\n",
       "      <td>0.58</td>\n",
       "      <td>0.02</td>\n",
       "      <td>2.0</td>\n",
       "      <td>0.073</td>\n",
       "      <td>9.0</td>\n",
       "      <td>18.0</td>\n",
       "      <td>0.9968</td>\n",
       "      <td>3.36</td>\n",
       "      <td>0.57</td>\n",
       "      <td>9.5</td>\n",
       "      <td>7</td>\n",
       "    </tr>\n",
       "    <tr>\n",
       "      <th>10</th>\n",
       "      <td>6.7</td>\n",
       "      <td>0.58</td>\n",
       "      <td>0.08</td>\n",
       "      <td>1.8</td>\n",
       "      <td>0.097</td>\n",
       "      <td>15.0</td>\n",
       "      <td>65.0</td>\n",
       "      <td>0.9959</td>\n",
       "      <td>3.28</td>\n",
       "      <td>0.54</td>\n",
       "      <td>9.2</td>\n",
       "      <td>5</td>\n",
       "    </tr>\n",
       "  </tbody>\n",
       "</table>\n",
       "</div>"
      ],
      "text/plain": [
       "    fixed acidity  volatile acidity  citric acid  residual sugar  chlorides  \\\n",
       "Id                                                                            \n",
       "0             7.4              0.70         0.00             1.9      0.076   \n",
       "1             7.8              0.88         0.00             2.6      0.098   \n",
       "2             7.8              0.76         0.04             2.3      0.092   \n",
       "3            11.2              0.28         0.56             1.9      0.075   \n",
       "4             7.4              0.70         0.00             1.9      0.076   \n",
       "5             7.4              0.66         0.00             1.8      0.075   \n",
       "6             7.9              0.60         0.06             1.6      0.069   \n",
       "7             7.3              0.65         0.00             1.2      0.065   \n",
       "8             7.8              0.58         0.02             2.0      0.073   \n",
       "10            6.7              0.58         0.08             1.8      0.097   \n",
       "\n",
       "    free sulfur dioxide  total sulfur dioxide  density    pH  sulphates  \\\n",
       "Id                                                                        \n",
       "0                  11.0                  34.0   0.9978  3.51       0.56   \n",
       "1                  25.0                  67.0   0.9968  3.20       0.68   \n",
       "2                  15.0                  54.0   0.9970  3.26       0.65   \n",
       "3                  17.0                  60.0   0.9980  3.16       0.58   \n",
       "4                  11.0                  34.0   0.9978  3.51       0.56   \n",
       "5                  13.0                  40.0   0.9978  3.51       0.56   \n",
       "6                  15.0                  59.0   0.9964  3.30       0.46   \n",
       "7                  15.0                  21.0   0.9946  3.39       0.47   \n",
       "8                   9.0                  18.0   0.9968  3.36       0.57   \n",
       "10                 15.0                  65.0   0.9959  3.28       0.54   \n",
       "\n",
       "    alcohol  quality  \n",
       "Id                    \n",
       "0       9.4        5  \n",
       "1       9.8        5  \n",
       "2       9.8        5  \n",
       "3       9.8        6  \n",
       "4       9.4        5  \n",
       "5       9.4        5  \n",
       "6       9.4        5  \n",
       "7      10.0        7  \n",
       "8       9.5        7  \n",
       "10      9.2        5  "
      ]
     },
     "execution_count": 4,
     "metadata": {},
     "output_type": "execute_result"
    }
   ],
   "source": [
    "df = pd.read_csv ('WineQT.csv')\n",
    "df = df.set_index('Id')\n",
    "print(f'Dimensions of the Dataset {df.shape}')\n",
    "df.head(10)"
   ]
  },
  {
   "cell_type": "markdown",
   "id": "a9f9b3ab",
   "metadata": {},
   "source": [
    "## Splitting the Dataset into Train and Test Datasets\n",
    "\n",
    "We want to split our Dataset into Train and Test Datasets. Doing this process in the beginning, avoids us to touch test dataset while dealing with NaN values, outliers, etc. Dealing only with train set, helps us in both computational speed and more realistic prediction results."
   ]
  },
  {
   "cell_type": "code",
   "execution_count": 5,
   "id": "53a83302",
   "metadata": {},
   "outputs": [
    {
     "name": "stdout",
     "output_type": "stream",
     "text": [
      "df_train: (914, 12).\n",
      "df_test: (229, 12).\n"
     ]
    }
   ],
   "source": [
    "df_train, df_test = train_test_split(df, test_size=0.2)\n",
    "print(f'df_train: {df_train.shape}.')\n",
    "print(f'df_test: {df_test.shape}.')"
   ]
  },
  {
   "cell_type": "markdown",
   "id": "0ae2cbdc",
   "metadata": {},
   "source": [
    "Our train and test datasets are splitted with the 914 rows, 12 columns and 229 rows, 12 columns respectively. We have selected the test dataset size to be %20 of total dataset. We have selected the datas randomly from df."
   ]
  },
  {
   "cell_type": "markdown",
   "id": "ca9a8e51",
   "metadata": {},
   "source": [
    "## Starting to know the dataset\n",
    "\n",
    "In this step, we are trying to figure out what our dataset looks like, what type of data it has, and a mathematical description of the variables. For this purpose, we are using info() and describe() methods. "
   ]
  },
  {
   "cell_type": "code",
   "execution_count": 6,
   "id": "00c885d5",
   "metadata": {},
   "outputs": [
    {
     "name": "stdout",
     "output_type": "stream",
     "text": [
      "<class 'pandas.core.frame.DataFrame'>\n",
      "Int64Index: 914 entries, 1351 to 746\n",
      "Data columns (total 12 columns):\n",
      " #   Column                Non-Null Count  Dtype  \n",
      "---  ------                --------------  -----  \n",
      " 0   fixed acidity         914 non-null    float64\n",
      " 1   volatile acidity      914 non-null    float64\n",
      " 2   citric acid           914 non-null    float64\n",
      " 3   residual sugar        914 non-null    float64\n",
      " 4   chlorides             914 non-null    float64\n",
      " 5   free sulfur dioxide   914 non-null    float64\n",
      " 6   total sulfur dioxide  914 non-null    float64\n",
      " 7   density               914 non-null    float64\n",
      " 8   pH                    914 non-null    float64\n",
      " 9   sulphates             914 non-null    float64\n",
      " 10  alcohol               914 non-null    float64\n",
      " 11  quality               914 non-null    int64  \n",
      "dtypes: float64(11), int64(1)\n",
      "memory usage: 92.8 KB\n"
     ]
    },
    {
     "data": {
      "text/html": [
       "<div>\n",
       "<style scoped>\n",
       "    .dataframe tbody tr th:only-of-type {\n",
       "        vertical-align: middle;\n",
       "    }\n",
       "\n",
       "    .dataframe tbody tr th {\n",
       "        vertical-align: top;\n",
       "    }\n",
       "\n",
       "    .dataframe thead th {\n",
       "        text-align: right;\n",
       "    }\n",
       "</style>\n",
       "<table border=\"1\" class=\"dataframe\">\n",
       "  <thead>\n",
       "    <tr style=\"text-align: right;\">\n",
       "      <th></th>\n",
       "      <th>fixed acidity</th>\n",
       "      <th>volatile acidity</th>\n",
       "      <th>citric acid</th>\n",
       "      <th>residual sugar</th>\n",
       "      <th>chlorides</th>\n",
       "      <th>free sulfur dioxide</th>\n",
       "      <th>total sulfur dioxide</th>\n",
       "      <th>density</th>\n",
       "      <th>pH</th>\n",
       "      <th>sulphates</th>\n",
       "      <th>alcohol</th>\n",
       "      <th>quality</th>\n",
       "    </tr>\n",
       "  </thead>\n",
       "  <tbody>\n",
       "    <tr>\n",
       "      <th>count</th>\n",
       "      <td>914.00</td>\n",
       "      <td>914.00</td>\n",
       "      <td>914.00</td>\n",
       "      <td>914.00</td>\n",
       "      <td>914.00</td>\n",
       "      <td>914.00</td>\n",
       "      <td>914.00</td>\n",
       "      <td>914.00</td>\n",
       "      <td>914.00</td>\n",
       "      <td>914.00</td>\n",
       "      <td>914.00</td>\n",
       "      <td>914.00</td>\n",
       "    </tr>\n",
       "    <tr>\n",
       "      <th>mean</th>\n",
       "      <td>8.28</td>\n",
       "      <td>0.53</td>\n",
       "      <td>0.27</td>\n",
       "      <td>2.54</td>\n",
       "      <td>0.09</td>\n",
       "      <td>15.65</td>\n",
       "      <td>46.10</td>\n",
       "      <td>1.00</td>\n",
       "      <td>3.31</td>\n",
       "      <td>0.66</td>\n",
       "      <td>10.42</td>\n",
       "      <td>5.63</td>\n",
       "    </tr>\n",
       "    <tr>\n",
       "      <th>std</th>\n",
       "      <td>1.72</td>\n",
       "      <td>0.18</td>\n",
       "      <td>0.20</td>\n",
       "      <td>1.38</td>\n",
       "      <td>0.05</td>\n",
       "      <td>10.39</td>\n",
       "      <td>33.45</td>\n",
       "      <td>0.00</td>\n",
       "      <td>0.16</td>\n",
       "      <td>0.18</td>\n",
       "      <td>1.09</td>\n",
       "      <td>0.81</td>\n",
       "    </tr>\n",
       "    <tr>\n",
       "      <th>min</th>\n",
       "      <td>4.60</td>\n",
       "      <td>0.12</td>\n",
       "      <td>0.00</td>\n",
       "      <td>0.90</td>\n",
       "      <td>0.01</td>\n",
       "      <td>1.00</td>\n",
       "      <td>7.00</td>\n",
       "      <td>0.99</td>\n",
       "      <td>2.74</td>\n",
       "      <td>0.33</td>\n",
       "      <td>8.40</td>\n",
       "      <td>3.00</td>\n",
       "    </tr>\n",
       "    <tr>\n",
       "      <th>25%</th>\n",
       "      <td>7.10</td>\n",
       "      <td>0.40</td>\n",
       "      <td>0.09</td>\n",
       "      <td>1.90</td>\n",
       "      <td>0.07</td>\n",
       "      <td>7.00</td>\n",
       "      <td>21.00</td>\n",
       "      <td>1.00</td>\n",
       "      <td>3.21</td>\n",
       "      <td>0.55</td>\n",
       "      <td>9.50</td>\n",
       "      <td>5.00</td>\n",
       "    </tr>\n",
       "    <tr>\n",
       "      <th>50%</th>\n",
       "      <td>7.90</td>\n",
       "      <td>0.52</td>\n",
       "      <td>0.25</td>\n",
       "      <td>2.20</td>\n",
       "      <td>0.08</td>\n",
       "      <td>13.00</td>\n",
       "      <td>37.00</td>\n",
       "      <td>1.00</td>\n",
       "      <td>3.31</td>\n",
       "      <td>0.62</td>\n",
       "      <td>10.10</td>\n",
       "      <td>6.00</td>\n",
       "    </tr>\n",
       "    <tr>\n",
       "      <th>75%</th>\n",
       "      <td>9.10</td>\n",
       "      <td>0.64</td>\n",
       "      <td>0.42</td>\n",
       "      <td>2.60</td>\n",
       "      <td>0.09</td>\n",
       "      <td>21.00</td>\n",
       "      <td>62.00</td>\n",
       "      <td>1.00</td>\n",
       "      <td>3.40</td>\n",
       "      <td>0.72</td>\n",
       "      <td>11.10</td>\n",
       "      <td>6.00</td>\n",
       "    </tr>\n",
       "    <tr>\n",
       "      <th>max</th>\n",
       "      <td>15.90</td>\n",
       "      <td>1.58</td>\n",
       "      <td>1.00</td>\n",
       "      <td>15.50</td>\n",
       "      <td>0.61</td>\n",
       "      <td>68.00</td>\n",
       "      <td>289.00</td>\n",
       "      <td>1.00</td>\n",
       "      <td>4.01</td>\n",
       "      <td>2.00</td>\n",
       "      <td>14.90</td>\n",
       "      <td>8.00</td>\n",
       "    </tr>\n",
       "  </tbody>\n",
       "</table>\n",
       "</div>"
      ],
      "text/plain": [
       "       fixed acidity  volatile acidity  citric acid  residual sugar  \\\n",
       "count         914.00            914.00       914.00          914.00   \n",
       "mean            8.28              0.53         0.27            2.54   \n",
       "std             1.72              0.18         0.20            1.38   \n",
       "min             4.60              0.12         0.00            0.90   \n",
       "25%             7.10              0.40         0.09            1.90   \n",
       "50%             7.90              0.52         0.25            2.20   \n",
       "75%             9.10              0.64         0.42            2.60   \n",
       "max            15.90              1.58         1.00           15.50   \n",
       "\n",
       "       chlorides  free sulfur dioxide  total sulfur dioxide  density      pH  \\\n",
       "count     914.00               914.00                914.00   914.00  914.00   \n",
       "mean        0.09                15.65                 46.10     1.00    3.31   \n",
       "std         0.05                10.39                 33.45     0.00    0.16   \n",
       "min         0.01                 1.00                  7.00     0.99    2.74   \n",
       "25%         0.07                 7.00                 21.00     1.00    3.21   \n",
       "50%         0.08                13.00                 37.00     1.00    3.31   \n",
       "75%         0.09                21.00                 62.00     1.00    3.40   \n",
       "max         0.61                68.00                289.00     1.00    4.01   \n",
       "\n",
       "       sulphates  alcohol  quality  \n",
       "count     914.00   914.00   914.00  \n",
       "mean        0.66    10.42     5.63  \n",
       "std         0.18     1.09     0.81  \n",
       "min         0.33     8.40     3.00  \n",
       "25%         0.55     9.50     5.00  \n",
       "50%         0.62    10.10     6.00  \n",
       "75%         0.72    11.10     6.00  \n",
       "max         2.00    14.90     8.00  "
      ]
     },
     "execution_count": 6,
     "metadata": {},
     "output_type": "execute_result"
    }
   ],
   "source": [
    "df_train.info()\n",
    "df_train.describe().round(2)"
   ]
  },
  {
   "cell_type": "markdown",
   "id": "b7373699",
   "metadata": {},
   "source": [
    "In the first table, we can see that all of our data types, except quality, are float. And all of our 914 entries are non-null which tells us there are no null values in our table.\n",
    "\n",
    "In the second table, we can see that also our values are in the logical limits. For example, we can see that maximum pH value is 4.01 and min is 2.74. This shows us there are no pH values which are not in the pH limits(0-14). And also, non of the percentages exceed the limit of 100%. "
   ]
  },
  {
   "cell_type": "markdown",
   "id": "b488d71c",
   "metadata": {},
   "source": [
    "## Starting to know the target\n",
    "\n",
    "Here, we want to see some of the properties of our target data, which is the Wine Quality Score. In this purpose, we want to see our Quality score distribution and correlation between the attributes and target label."
   ]
  },
  {
   "cell_type": "code",
   "execution_count": 7,
   "id": "faca824a",
   "metadata": {
    "scrolled": true
   },
   "outputs": [
    {
     "data": {
      "text/plain": [
       "<AxesSubplot:title={'center':'Quality Score Distribution'}, xlabel='quality', ylabel='count'>"
      ]
     },
     "execution_count": 7,
     "metadata": {},
     "output_type": "execute_result"
    },
    {
     "data": {
      "image/png": "[encoded data removed]",
      "text/plain": [
       "<Figure size 576x576 with 1 Axes>"
      ]
     },
     "metadata": {
      "needs_background": "light"
     },
     "output_type": "display_data"
    }
   ],
   "source": [
    "colors = sns.color_palette('tab10')\n",
    "plt.figure(figsize=(8, 8))\n",
    "plt.title('Quality Score Distribution', fontsize=15)\n",
    "sns.countplot(x=df_train['quality'], palette=colors)"
   ]
  },
  {
   "cell_type": "markdown",
   "id": "677262f0",
   "metadata": {},
   "source": [
    "The distribution of the quality scores basically show that, our scores are mostly around 5-6. Also we can see that there are more than 100 different wines with a score of 7. On the other hand we have less than 25 wines with the scores 3,4 and 8 and no wines with 0,1,2,9 and 10."
   ]
  },
  {
   "cell_type": "code",
   "execution_count": 8,
   "id": "bbd7e50d",
   "metadata": {},
   "outputs": [
    {
     "data": {
      "text/plain": [
       "<AxesSubplot:>"
      ]
     },
     "execution_count": 8,
     "metadata": {},
     "output_type": "execute_result"
    },
    {
     "data": {
      "image/png": "[encoded data removed]",
      "text/plain": [
       "<Figure size 1080x720 with 2 Axes>"
      ]
     },
     "metadata": {
      "needs_background": "light"
     },
     "output_type": "display_data"
    }
   ],
   "source": [
    "plt.figure(figsize=(15, 10))\n",
    "sns.heatmap(df_train.corr(), annot=True)"
   ]
  },
  {
   "cell_type": "markdown",
   "id": "7a931440",
   "metadata": {},
   "source": [
    "In the correlation map, we can see that quality score is mostly and positively effected by the alcohol level. Then fixed acidity, citric acid and sulphates are following alcohol level. On the other hand we can see that volatile acidity, residual sugar, chlorides, free sulfur dioxide, total sulfur dioxide, density and pH is negatively correlated with the quality score. "
   ]
  },
  {
   "cell_type": "markdown",
   "id": "f30987c3",
   "metadata": {},
   "source": [
    "## Checking null values and non-logical values\n",
    "We already know that we have 914 data points for each column and in previous table we have seen for each column there is exactly 914 non-null values. This shows us that our table does not contain any null values. But in any case, we want to keep this step in our pipeline. Also we want to check if there are any values which are not logical. This is a cross-check step for describe() method we used before."
   ]
  },
  {
   "cell_type": "code",
   "execution_count": 9,
   "id": "94fec4f2",
   "metadata": {},
   "outputs": [
    {
     "name": "stdout",
     "output_type": "stream",
     "text": [
      "[ 7.2  8.8  8.   8.1  7.5  9.9  7.9  5.8  8.6  9.1  7.8  7.1  7.7  6.6\n",
      "  8.9  8.4 14.3  6.1  8.3  9.5 10.2 10.9  6.5  7.4  8.2  6.8 10.8 12.\n",
      "  9.2 11.4  9.7  6.3  6.4  6.  11.2  8.5  9.3  5.3 10.7 11.1 10.3  7.6\n",
      " 10.   8.7  5.   6.2 11.3 11.9  9.   5.9  9.8  9.6 10.6 13.   7.   7.3\n",
      "  6.9  6.7 12.8 13.4  5.6 11.6 11.5 15.   5.1 10.5 12.9  5.7 12.3 10.1\n",
      " 12.7  4.9 10.4 11.7  5.4 12.5  4.6  9.4 15.6 15.5  5.2 12.6 12.4 13.7\n",
      " 13.2 13.3 11.8 13.5 15.9]\n",
      "[0.62  0.64  0.39  0.29  0.38  0.49  0.34  0.61  0.42  0.765 0.955 0.7\n",
      " 0.43  0.58  0.32  0.52  0.735 0.5   0.81  0.59  0.66  0.12  0.57  0.65\n",
      " 0.31  0.54  0.85  0.78  0.33  0.6   0.18  0.2   0.4   0.26  0.98  0.67\n",
      " 0.715 0.37  0.47  0.35  0.45  0.48  0.565 1.04  0.725 0.53  0.36  0.28\n",
      " 0.645 0.71  0.705 0.25  0.56  0.41  0.77  0.22  0.815 0.63  0.3   0.27\n",
      " 0.72  0.46  0.76  1.02  0.415 0.91  0.84  0.74  0.935 0.69  0.915 0.21\n",
      " 0.605 0.73  0.88  0.24  0.625 0.965 0.51  0.475 0.635 0.68  0.89  0.44\n",
      " 0.785 0.615 0.795 0.75  0.745 0.655 0.55  0.87  0.775 0.86  1.005 0.8\n",
      " 0.685 0.575 0.695 0.975 0.675 0.545 1.58  0.885 0.82  1.33  0.315 0.92\n",
      " 0.19  0.79  0.835 0.825 0.865 0.595 0.855 0.395 1.025 0.875 0.96  1.07\n",
      " 0.805 0.83  0.585 0.845 0.16  0.23  1.035 0.755 0.665 0.9  ]\n",
      "[0.01 0.17 0.3  0.36 0.48 0.58 0.11 0.28 0.31 0.04 0.05 0.06 0.42 0.44\n",
      " 0.25 0.02 0.21 0.22 0.45 0.6  0.74 0.14 0.46 0.52 0.   0.26 0.4  0.43\n",
      " 0.24 0.08 0.23 0.41 0.59 0.5  0.1  0.2  0.49 0.53 0.73 0.34 0.47 0.39\n",
      " 0.12 0.66 0.29 0.16 0.56 0.65 0.64 0.68 0.09 0.27 0.07 0.63 0.55 0.62\n",
      " 0.51 0.35 0.32 0.19 0.37 0.13 0.33 1.   0.57 0.03 0.18 0.15 0.54 0.38\n",
      " 0.76 0.69 0.67 0.61 0.79]\n",
      "[ 2.3   2.9   1.9   2.2   2.6   3.5   1.8   1.6   5.5   2.7   7.9   3.4\n",
      "  2.    2.1   1.3   2.5   1.4   1.5   3.6   5.15  2.8   1.7   3.2   3.\n",
      "  4.65  3.1   4.    3.3   6.    8.3   1.75  2.4   4.8   5.9  15.5   6.6\n",
      "  0.9   2.25  5.1   2.95  4.5   6.4   6.55  5.8   6.7   1.2   3.8   6.2\n",
      "  6.1   9.   13.8   4.4   4.2   4.1   4.3   5.    4.6   5.6   1.65  7.2\n",
      "  2.85  5.2   3.7   5.7  15.4   7.3   3.9   6.3   8.1   7.5   3.75  5.4\n",
      " 11.  ]\n",
      "[0.065 0.084 0.074 0.048 0.073 0.094 0.066 0.11  0.08  0.078 0.075 0.079\n",
      " 0.07  0.088 0.104 0.081 0.122 0.076 0.082 0.069 0.112 0.071 0.056 0.093\n",
      " 0.077 0.132 0.095 0.062 0.103 0.068 0.099 0.042 0.083 0.057 0.045 0.1\n",
      " 0.053 0.09  0.086 0.102 0.085 0.064 0.054 0.097 0.055 0.058 0.05  0.118\n",
      " 0.165 0.109 0.125 0.087 0.101 0.067 0.171 0.092 0.114 0.119 0.153 0.27\n",
      " 0.06  0.059 0.091 0.123 0.072 0.157 0.106 0.117 0.105 0.061 0.337 0.034\n",
      " 0.096 0.213 0.136 0.107 0.049 0.403 0.063 0.089 0.61  0.098 0.263 0.116\n",
      " 0.161 0.235 0.052 0.041 0.044 0.111 0.115 0.046 0.038 0.415 0.205 0.108\n",
      " 0.387 0.137 0.241 0.2   0.23  0.611 0.414 0.169 0.012 0.051 0.152 0.127\n",
      " 0.166 0.178 0.214 0.226 0.25  0.12  0.047 0.147 0.358 0.039 0.126 0.128\n",
      " 0.168 0.043]\n",
      "[ 8.  25.  32.  35.  22.   9.   5.  18.  20.  15.   4.  29.  12.  14.\n",
      " 68.  21.  34.  43.  10.   6.  16.  13.  17.  48.  31.  11.   7.  28.\n",
      " 23.  19.  26.   3.  24.  27.  30.  37.5 33.  41.  46.  40.  36.  42.\n",
      " 38.  66.   1.  37.  39.  55.  51.  53.  40.5 52. ]\n",
      "[ 46.  130.   84.   53.   43.   10.   28.  136.   42.   14.   19.   35.\n",
      " 129.   18.   17.   38.  124.   39.   85.   60.   23.   21.   89.   90.\n",
      "  15.   40.   13.   12.   54.   32.    9.   44.   59.  131.   34.   20.\n",
      "  51.   81.   16.   79.   33.   48.   26.   27.   58.  149.   22.  112.\n",
      " 109.  113.   96.   11.   47.   49.   72.  125.   66.   31.   67.   74.\n",
      "  68.   91.  110.  278.  105.   52.   88.   45.   63.  141.  114.  119.\n",
      "  29.   62.   98.   24.   82.  104.   92.   71.  102.   25.   64.   77.\n",
      " 134.   56.   70.  289.   36.   61.  143.   69.   37.    7.   86.  139.\n",
      "  50.   65.   76.  122.  115.  111.   57.  101.    8.  151.   87.   75.\n",
      "  41.  142.   80.   94.   30.  144.   95.   93.   55.  127.  121.  100.\n",
      "  99.  106.   78.  128.  147.   77.5  73.  165.  145.  135.  152.  103. ]\n",
      "[0.99332 0.99818 0.99717 0.995   0.9972  1.0004  0.99419 0.99483 0.9978\n",
      " 0.998   0.99616 0.99628 0.9973  0.99568 0.99732 0.9984  0.9994  0.99692\n",
      " 0.99668 0.99499 0.9968  0.99552 0.9963  1.0008  0.9991  0.99472 0.9942\n",
      " 0.99724 0.9988  0.9956  0.99734 0.99541 0.99622 0.9941  0.99672 0.99651\n",
      " 0.99542 0.99462 0.99677 0.9976  0.9986  0.99649 0.99488 0.9949  0.99448\n",
      " 0.9996  0.99362 0.99292 0.99464 0.9922  0.99182 0.9982  0.99693 0.9998\n",
      " 0.99565 0.99965 0.99733 0.99639 0.99708 0.99392 0.9934  0.9962  0.99702\n",
      " 1.      0.99645 0.99586 0.9967  0.99547 0.99635 0.9955  0.9971  0.99855\n",
      " 0.99682 0.99865 0.99476 0.9993  0.99621 0.99675 0.99316 0.997   0.99627\n",
      " 0.9958  0.99479 0.99534 0.99322 0.9948  0.99718 0.99725 0.99379 0.99516\n",
      " 0.99525 0.9997  0.99615 0.99474 0.9966  0.99418 1.0002  0.99256 0.99538\n",
      " 0.9974  1.001   0.9981  0.99484 0.99577 0.99852 1.00005 0.99444 0.9964\n",
      " 0.9921  0.99658 0.99486 0.99779 0.99636 0.99752 0.99566 0.99578 1.00015\n",
      " 0.99593 1.0026  0.99619 0.9938  0.99394 1.00012 0.99529 0.99712 1.0014\n",
      " 0.99704 0.99007 0.99632 0.99656 0.99625 0.99685 0.9977  0.99786 0.99689\n",
      " 0.99498 0.99356 0.99536 0.99528 0.99191 0.99769 0.99683 0.9952  0.99426\n",
      " 0.99608 0.9987  0.99745 0.99518 0.99416 0.99613 0.99612 0.9983  0.99788\n",
      " 0.9947  0.9951  0.9959  0.99154 0.99562 0.9929  0.99664 0.999   1.0022\n",
      " 0.99395 0.99686 0.99787 0.99242 0.99458 0.99588 0.99258 0.99606 0.99478\n",
      " 0.99828 0.99603 0.99694 0.9961  0.99746 0.9965  0.99358 0.99598 0.99604\n",
      " 0.9969  0.99629 0.99836 0.99294 0.99922 0.99976 0.99674 0.99157 0.99371\n",
      " 0.99633 0.99495 0.99901 0.9953  0.99314 0.99594 0.99584 0.99514 0.99385\n",
      " 0.99397 0.9933  0.99975 0.9954  1.00242 0.99467 0.99574 0.99439 0.99878\n",
      " 0.99646 0.99659 0.99378 0.99374 0.99526 0.99546 1.00315 0.99508 0.99569\n",
      " 0.9946  0.99502 0.99854 0.996   0.99823 0.99748 0.99914 0.99655 1.0001\n",
      " 0.9957  1.0003  0.99706 0.99774 0.99743 0.99666 0.99761 0.99642 0.99572\n",
      " 0.99714 0.99252 0.99396 0.99554 0.99522 0.99585 0.99785 0.9999  0.99817\n",
      " 0.99701 0.99782 0.9916  0.99354 0.99647 0.99557 0.99765 0.99408 0.994\n",
      " 0.99842 0.99834 0.99376 0.99728 0.99939 1.0006  0.99667 0.99592 0.99798\n",
      " 0.99652 0.99425 0.9975  0.99512 0.99631 0.99803 0.9936  0.99815 0.9992\n",
      " 0.99596 0.99925 0.9935  0.99434 0.99162 0.99384 0.99738 0.99824 0.99064\n",
      " 0.99084 0.99531 0.99735 0.99623 0.99346 0.99451 0.99506 0.99599 0.9979\n",
      " 0.99605 0.99323 0.99634 1.0021  0.99736 0.9985  0.99576 0.99801 0.99648\n",
      " 0.99665 0.99705 0.99587 0.99808 0.99551 0.99614 0.9917  1.00369 0.99555\n",
      " 0.99386 0.99387 0.99558 0.9943  0.99624 0.99784 0.99739 0.99688 0.99471\n",
      " 0.99822 0.99264 0.99492 0.99888 0.99494 0.9902  0.99235 0.99638 0.99892\n",
      " 1.0018  0.9937  0.99454 0.99543 0.9912  0.99549 0.99334 0.99533 0.99504\n",
      " 0.99344 0.99575 1.00025 0.9944  0.99521 0.99581 0.99684 0.99388 0.99553\n",
      " 0.99519 0.99764 0.99744 0.99402 0.99697 1.0015 ]\n",
      "[3.32 3.23 3.39 3.27 3.29 3.55 2.93 3.31 3.3  3.4  3.42 3.33 3.43 3.47\n",
      " 3.19 3.1  3.41 3.04 3.2  2.86 3.52 3.17 3.36 3.26 3.28 3.61 3.21 3.51\n",
      " 3.53 3.34 3.08 2.92 3.35 3.12 3.6  3.49 3.22 3.57 3.58 3.54 3.15 3.16\n",
      " 3.38 3.13 3.18 3.74 3.45 3.03 3.24 3.05 3.67 3.37 3.01 3.25 3.48 2.89\n",
      " 3.44 3.11 3.09 3.07 3.9  3.46 2.98 3.14 3.75 3.56 3.02 3.5  2.99 3.59\n",
      " 2.74 3.   3.69 3.71 3.62 4.01 3.68 3.06 2.94 3.7  3.72 3.78 3.63]\n",
      "[0.51 0.54 0.61 1.01 0.7  0.58 0.66 1.95 0.64 0.44 0.69 0.72 0.56 0.78\n",
      " 0.65 0.53 0.83 0.42 1.2  0.76 0.9  0.52 0.79 0.62 0.48 0.63 0.77 0.81\n",
      " 0.82 0.67 0.68 0.74 0.46 0.49 0.45 0.5  0.59 0.75 0.88 0.55 0.8  0.47\n",
      " 0.39 0.86 0.57 0.85 1.04 0.71 0.92 1.03 1.02 0.6  1.18 0.43 1.05 0.73\n",
      " 1.56 0.95 0.97 0.84 1.61 0.94 1.07 1.15 2.   1.09 0.91 0.93 0.4  1.06\n",
      " 1.36 1.14 0.96 0.87 1.1  1.17 1.26 1.34 1.22 1.62 0.99 1.08 0.33 1.13\n",
      " 0.89 1.12]\n",
      "[11.8         9.6         9.         12.4        11.2        10.9\n",
      "  9.9         9.7        10.5        11.         11.1         9.2\n",
      " 10.3        11.9        10.1         8.4         9.4        11.4\n",
      "  9.8        10.6        10.4        11.5        10.          9.5\n",
      "  9.3        10.7        12.5        11.3        12.3        10.2\n",
      " 13.56666667 10.8        12.1        11.6        11.7        12.9\n",
      "  9.1        12.8        12.6        11.06666667 12.7        10.03333333\n",
      " 12.2        14.         12.         13.1        13.6         9.55\n",
      "  8.8        13.4        13.3         8.5         9.25       13.\n",
      " 14.9        10.55        8.7         9.23333333  9.95      ]\n",
      "[6 5 7 4 8 3]\n"
     ]
    }
   ],
   "source": [
    "df_train.isnull().sum()\n",
    "\n",
    "for x in df_train:\n",
    "  print(df_train[x].unique())"
   ]
  },
  {
   "cell_type": "markdown",
   "id": "b4e8a40f",
   "metadata": {},
   "source": [
    "Our dataset is clean and does not have any null values. Since it does not need any further cleaning, we can start building our modules from this point."
   ]
  },
  {
   "cell_type": "markdown",
   "id": "de1bd82f",
   "metadata": {},
   "source": [
    "# Feature Engineering"
   ]
  },
  {
   "cell_type": "markdown",
   "id": "45bd4d8c",
   "metadata": {},
   "source": [
    "This is step can be considered as a preprocessing steps before we go to build our modules. Our main purpose here is to remove missing values, normalizing/standardizing our data, encoding categorical futures, handling the imbalanced classes and reducing the dimensionality of our train dataset. \n",
    "\n",
    "On the otherside, our dataset does all of these steps to be applied:\\\n",
    "-We do not need to remove missing values, our dataset is already clear and we do not have any missing values.\\\n",
    "-We do not have categorical futures, all of our futures are either float or integer.\\\n",
    "-We do not need to reduce the dimensonality of our dataset, since it is already a small dataset.\n",
    "\n",
    "Considering the information above, the only steps that we are going to take in this stage is seperating the target label, balancing classes with oversampling and standardizing our data."
   ]
  },
  {
   "cell_type": "markdown",
   "id": "560d3e86",
   "metadata": {},
   "source": [
    "## Seperating Target Label\n",
    "First of all, we are going to divide our datasets into x and y to seperate target label from the others where y will be our target label."
   ]
  },
  {
   "cell_type": "code",
   "execution_count": 10,
   "id": "86dbd8fd",
   "metadata": {},
   "outputs": [
    {
     "name": "stdout",
     "output_type": "stream",
     "text": [
      "Training and Test Datasets are ready with the following dimensions:\n",
      " x_train: (914, 11)\n",
      " x_test: (229, 11)\n",
      " y_train: (914,)\n",
      " y_test: (229,)\n"
     ]
    }
   ],
   "source": [
    "x_train = df_train.drop(['quality'], axis=1)\n",
    "y_train = df_train['quality']\n",
    "x_test = df_test.drop(['quality'], axis=1)\n",
    "y_test = df_test['quality']\n",
    "\n",
    "print(f'Training and Test Datasets are ready with the following dimensions:\\n \\\n",
    "x_train: {x_train.shape}\\n x_test: {x_test.shape}\\n \\\n",
    "y_train: {y_train.shape}\\n y_test: {y_test.shape}')"
   ]
  },
  {
   "cell_type": "markdown",
   "id": "16531c83",
   "metadata": {},
   "source": [
    "## Oversampling the Data\n",
    "\n",
    "We have seen that our dataset is imbalanced in the first steps. For a better prediction, we need to balance our dataset with similar data points. For this purpose we are going to use Random Over Sampler method from imbalanced learn library. We are going to take our train dataset and add new data points until our imbalanced classes are close to other classes. This value is determined as 350, so in the end we will have 350 samples for quality score of 3, 4, 7 and 8."
   ]
  },
  {
   "cell_type": "code",
   "execution_count": 11,
   "id": "975a0fbc",
   "metadata": {},
   "outputs": [
    {
     "name": "stdout",
     "output_type": "stream",
     "text": [
      "x_train: (2157, 11).\n"
     ]
    },
    {
     "data": {
      "text/plain": [
       "<AxesSubplot:title={'center':'Quality Score Distribution'}, xlabel='quality', ylabel='count'>"
      ]
     },
     "execution_count": 11,
     "metadata": {},
     "output_type": "execute_result"
    },
    {
     "data": {
      "image/png": "[encoded data removed]",
      "text/plain": [
       "<Figure size 576x576 with 1 Axes>"
      ]
     },
     "metadata": {
      "needs_background": "light"
     },
     "output_type": "display_data"
    }
   ],
   "source": [
    "oversample = RandomOverSampler(sampling_strategy={3:350, 4:350, 7:350, 8:350})\n",
    "x_train, y_train = oversample.fit_resample(x_train, y_train)\n",
    "\n",
    "print(f'x_train: {x_train.shape}.')\n",
    "\n",
    "colors = sns.color_palette('tab10')\n",
    "plt.figure(figsize=(8, 8))\n",
    "plt.title('Quality Score Distribution', fontsize=15)\n",
    "sns.countplot(x=y_train, palette=colors)"
   ]
  },
  {
   "cell_type": "markdown",
   "id": "35733fa9",
   "metadata": {},
   "source": [
    "After oversampling, now we have a balanced target dataset. We have 350 samples for quality score of 3, 4, 7 and 8 and a little more than that for 5 and 6. This will help us to get better prediction results."
   ]
  },
  {
   "cell_type": "markdown",
   "id": "97cb27c6",
   "metadata": {},
   "source": [
    "## Standardizing the Data\n",
    "\n",
    "We are going to use Standard Scaler to standardize our data. We are using this step to simply make sure that our data is internally consistent."
   ]
  },
  {
   "cell_type": "code",
   "execution_count": 12,
   "id": "661d2d0a",
   "metadata": {},
   "outputs": [],
   "source": [
    "std = StandardScaler()\n",
    "\n",
    "x_train = std.fit_transform(x_train)\n",
    "x_train = pd.DataFrame(x_train)\n",
    "\n",
    "x_test = std.transform(x_test)\n",
    "x_test = pd.DataFrame(x_test)"
   ]
  },
  {
   "cell_type": "markdown",
   "id": "fca6bd64",
   "metadata": {},
   "source": [
    "Now our datasets are ready for further steps. Our training set is clean and ready to train the models. "
   ]
  },
  {
   "cell_type": "markdown",
   "id": "598622e6",
   "metadata": {},
   "source": [
    "# Model Selection, Tuning, Prediction and Testing"
   ]
  },
  {
   "cell_type": "markdown",
   "id": "6d91925d",
   "metadata": {},
   "source": [
    "## Training with Different Algorithms"
   ]
  },
  {
   "cell_type": "markdown",
   "id": "e9f0bfe0",
   "metadata": {},
   "source": [
    "After completing the previous steps, our data is ready for training different classification models. In training part, we will be using different methods to reach the best result. \n",
    "\n",
    "Our predicted value will be the quality of wine. The values that Quality of Wine can be is between 0-10. In that case, we can simply see this problem as both discerete and continues. If we want to predict the quality with intervals like \"4.50-5.49=5\" we can use regression models. But we will approach this case as a classification problem. That's why in our further steps, we will use different classification algorithms from sklearn library. This algorithms will be:\\\n",
    "-KNN \\\n",
    "-SVM \\\n",
    "-DecisionTree \\\n",
    "-RandomForestClassifier\n",
    "\n",
    "For each algorithm, we will tune our models using GridSearchCV() method. This method basically, takes a grid as an input and calculates the best score between given values trying one after another. \n",
    "\n",
    "After working with different algorithms, the results will be seen in terms of accuracy score. The algorithm with the highest score will be used for our prediction in the next stage."
   ]
  },
  {
   "cell_type": "markdown",
   "id": "08988073",
   "metadata": {},
   "source": [
    "### K-Nearest Neighbor Classifier\n",
    "\n",
    "This algorithm classifies a given input according to the k neighbors which are closest. The value k is determined by n_neighbors hyperparameter. The hyperparameters which we are going to tune for K-Nearest Neighbor Classifier is as follows:\\\n",
    "__n_neighbors:__ Determining number of neighbors\\\n",
    "__weights:__ Selecting uniform or distance as the weight function of the prediction\\\n",
    "__metric:__ Choosing the distance metric for the tree"
   ]
  },
  {
   "cell_type": "code",
   "execution_count": 13,
   "id": "d62490e0",
   "metadata": {},
   "outputs": [
    {
     "name": "stdout",
     "output_type": "stream",
     "text": [
      "The accuracy score for K-Nearest Neighbor Classifier is: 0.87, with the best parameters: {'metric': 'minkowski', 'n_neighbors': 1, 'weights': 'uniform'}.\n"
     ]
    }
   ],
   "source": [
    "params_knn = {\n",
    "    'n_neighbors': [int(x) for x in np.linspace(1, 250, num=40)],\n",
    "    'weights': ['uniform', 'distance'],\n",
    "    'metric': ['minkowski', 'euclidean', 'manhattan']\n",
    "}\n",
    "\n",
    "knn = GridSearchCV(KNeighborsClassifier(), param_grid=params_knn, scoring='accuracy', n_jobs=-1)\n",
    "knn.fit(x_train, y_train)\n",
    "\n",
    "print(f'The accuracy score for K-Nearest Neighbor Classifier is: {round(knn.best_score_, 2)}, \\\n",
    "with the best parameters: {knn.best_params_}.')"
   ]
  },
  {
   "cell_type": "markdown",
   "id": "eaaf231c",
   "metadata": {},
   "source": [
    "### Support Vector Machine Classifier\n",
    "\n",
    "In Support Vector Machine Classification, the algorithm creates hyperplanes to classify a given input. The important parameters that we are going to tune is as follows:\\\n",
    "__C:__ Selecting the regularization constant of the algortihm\\\n",
    "__kernel:__ Specifying the kernel type among 'linear', 'poly', 'rbf', 'sigmoid'\\\n",
    "__gamma:__ Determining the Kernel Coefficient"
   ]
  },
  {
   "cell_type": "code",
   "execution_count": 14,
   "id": "9b327aae",
   "metadata": {},
   "outputs": [
    {
     "name": "stdout",
     "output_type": "stream",
     "text": [
      "The accuracy score for Support Vector Machines is: 0.88, with the best parameters: {'C': 100, 'gamma': 1, 'kernel': 'rbf'}.\n"
     ]
    }
   ],
   "source": [
    "params_svc = {\n",
    "    'C': [100, 10, 1, 0.1, 0.01],\n",
    "    'kernel':  ['linear', 'poly', 'rbf', 'sigmoid'],\n",
    "    'gamma': [1, 0.1, 0.01, 0.001]\n",
    "}\n",
    "\n",
    "svc = GridSearchCV(SVC(), param_grid=params_svc, scoring='accuracy', n_jobs=-1)\n",
    "svc.fit(x_train, y_train)\n",
    "\n",
    "print(f'The accuracy score for Support Vector Machines is: {round(svc.best_score_, 2)}, \\\n",
    "with the best parameters: {svc.best_params_}.')"
   ]
  },
  {
   "cell_type": "markdown",
   "id": "50632f43",
   "metadata": {},
   "source": [
    "### Decision Tree Classifier\n",
    "\n",
    "This method creates us a decision tree with the given hyperparameters. This decision tree will create new nodes according to the training data. To tune our model we are going to change to following hyperparameters:\\\n",
    "__criterion:__ Determining the function to measure the quality of the splits\\\n",
    "__max_depth:__ Determining the maximum depth the tree can go\\\n",
    "__min_samples_split:__ Determining the minimum number of samples necessary to split a node\\\n",
    "__min_samples_leaf:__ Determining the minimum number of samples necessary to be a leaf"
   ]
  },
  {
   "cell_type": "code",
   "execution_count": 15,
   "id": "0e5e06c4",
   "metadata": {},
   "outputs": [
    {
     "name": "stdout",
     "output_type": "stream",
     "text": [
      "The accuracy score for Decision Tree Classifier is: 0.84, with the best parameters: {'criterion': 'gini', 'max_depth': 109, 'min_samples_leaf': 2, 'min_samples_split': 4}.\n"
     ]
    }
   ],
   "source": [
    "params_dtc = {\n",
    "    'criterion': ['gini', 'entropy'],\n",
    "    'max_depth':  [int(x) for x in np.linspace(1, 250, num=40)],\n",
    "    'min_samples_split': range(2, 10, 2),\n",
    "    'min_samples_leaf': range(2, 10, 2)\n",
    "}\n",
    "\n",
    "dtc = GridSearchCV(DecisionTreeClassifier(), param_grid=params_dtc, scoring='accuracy', n_jobs=-1)\n",
    "dtc.fit(x_train, y_train)\n",
    "\n",
    "print(f'The accuracy score for Decision Tree Classifier is: {round(dtc.best_score_, 2)}, \\\n",
    "with the best parameters: {dtc.best_params_}.')"
   ]
  },
  {
   "cell_type": "markdown",
   "id": "7f787d65",
   "metadata": {},
   "source": [
    "### Random Forest Classifier\n",
    "\n",
    "Random Forest Classifier, creates different decision trees to make the prediction. The algorithm has the following hyperparameters which are the most important ones:\n",
    "    \n",
    "__n_estimators:__ Determining the number of trees in the random forest\\\n",
    "__max_features:__ Determining the number of features in consideration at every split\\\n",
    "__max_depth:__ Determining the maximum depth the tree can go\\\n",
    "__min_samples_split:__ Determining the minimum number of samples necessary to split a node\\\n",
    "__min_samples_leaf:__ Determining the minimum number of samples necessary to be a leaf\\\n",
    "__bootstrap:__ Selecting method used to sample data points"
   ]
  },
  {
   "cell_type": "code",
   "execution_count": 16,
   "id": "83c76b4f",
   "metadata": {},
   "outputs": [
    {
     "name": "stdout",
     "output_type": "stream",
     "text": [
      "The accuracy score for Random Forest Classifier is: 0.89, with the best parameters: {'bootstrap': False, 'max_depth': 71, 'max_features': 'sqrt', 'min_samples_leaf': 1, 'min_samples_split': 2, 'n_estimators': 25}.\n"
     ]
    }
   ],
   "source": [
    "params_rfc = {\n",
    "    'n_estimators': [10, 25, 50, 100, 250],\n",
    "    'max_depth': [int(x) for x in np.linspace(1, 250, num=40)],\n",
    "    'min_samples_split': [2, 6, 10, 24],\n",
    "    'min_samples_leaf': [1, 2, 3],\n",
    "    'max_features': ['auto', 'sqrt'],\n",
    "    'bootstrap': [True, False]\n",
    "}\n",
    "\n",
    "rfc = GridSearchCV(RandomForestClassifier(), param_grid=params_rfc, scoring='accuracy', n_jobs=-1)\n",
    "rfc.fit(x_train,y_train)\n",
    "\n",
    "print(f'The accuracy score for Random Forest Classifier is: {round(rfc.best_score_, 2)}, \\\n",
    "with the best parameters: {rfc.best_params_}.')"
   ]
  },
  {
   "cell_type": "markdown",
   "id": "7246d523",
   "metadata": {},
   "source": [
    "According to our training and accuracy scores, all of our models has a score over 0.8. This score is enough to continue with the next step, predicting and testing. For this purpose, we will try our best two models which are Support Vector Machine Classifier and Random Forest Classifier with the acuracy scores 0.88 and 0.89 respectively. Although both K-Nearest Neighbor and Decision Tree Classifier has a score more than 0.8, other two models seems to be working better for our dataset."
   ]
  },
  {
   "cell_type": "markdown",
   "id": "33394825",
   "metadata": {},
   "source": [
    "## Predicting and Testing with Best Models"
   ]
  },
  {
   "cell_type": "markdown",
   "id": "0d1c7dd4",
   "metadata": {},
   "source": [
    "In this last phase of our pipeline, we are going to test our best two models with a prediction. Our prediction models are also ready with the best hyperparameters and trained with the train data. Now we are going to use the two of our best models to make predictions and compare it with our target label. In the test step we are going to use accuracy score, classification report(where information like precision, recall, f1-score and support is analyzed) and confusion matrix. According to our results, we are going to select our best model for wine quality prediction task."
   ]
  },
  {
   "cell_type": "markdown",
   "id": "8802e844",
   "metadata": {},
   "source": [
    "### Random Forest Classifier"
   ]
  },
  {
   "cell_type": "code",
   "execution_count": 19,
   "id": "c83eef6e",
   "metadata": {},
   "outputs": [
    {
     "name": "stdout",
     "output_type": "stream",
     "text": [
      "The accuracy score of Random Forest Classifier is: 0.69.\n",
      "The classification report for Random Forest Classifier is: \n",
      "               precision    recall  f1-score   support\n",
      "\n",
      "           3       0.00      0.00      0.00         0\n",
      "           4       0.00      0.00      0.00         7\n",
      "           5       0.68      0.81      0.74        80\n",
      "           6       0.73      0.68      0.70       108\n",
      "           7       0.65      0.65      0.65        31\n",
      "           8       0.50      0.33      0.40         3\n",
      "\n",
      "    accuracy                           0.69       229\n",
      "   macro avg       0.43      0.41      0.41       229\n",
      "weighted avg       0.68      0.69      0.68       229\n",
      "\n"
     ]
    },
    {
     "data": {
      "text/plain": [
       "<AxesSubplot:>"
      ]
     },
     "execution_count": 19,
     "metadata": {},
     "output_type": "execute_result"
    },
    {
     "data": {
      "image/png": "[encoded data removed]",
      "text/plain": [
       "<Figure size 432x288 with 2 Axes>"
      ]
     },
     "metadata": {
      "needs_background": "light"
     },
     "output_type": "display_data"
    }
   ],
   "source": [
    "y_rfc = rfc.predict(x_test)\n",
    "\n",
    "accuracy = accuracy_score(y_test, y_rfc)\n",
    "cm_rfc = confusion_matrix(y_test, y_rfc)\n",
    "\n",
    "print(f'The accuracy score of Random Forest Classifier is: {round(accuracy, 2)}.')\n",
    "print(f'The classification report for Random Forest Classifier is: \\n \\\n",
    "{classification_report(y_test, y_rfc)}')\n",
    "sns.heatmap(cm_rfc, annot=True, cmap='YlGnBu', linewidths=0.3, xticklabels=[3, 4, 5, 6, 7, 8], yticklabels=[3, 4, 5, 6, 7, 8])"
   ]
  },
  {
   "cell_type": "markdown",
   "id": "326ef937",
   "metadata": {},
   "source": [
    "### Support Vector Machine Classifier"
   ]
  },
  {
   "cell_type": "code",
   "execution_count": 18,
   "id": "17ad17c4",
   "metadata": {},
   "outputs": [
    {
     "name": "stdout",
     "output_type": "stream",
     "text": [
      "The accuracy score of Support Vector Machine Classifier is: 0.65.\n",
      "The classification report for Support Vector Machine Classifier is: \n",
      "               precision    recall  f1-score   support\n",
      "\n",
      "           4       0.00      0.00      0.00         7\n",
      "           5       0.57      0.76      0.65        80\n",
      "           6       0.70      0.64      0.67       108\n",
      "           7       0.82      0.58      0.68        31\n",
      "           8       0.50      0.33      0.40         3\n",
      "\n",
      "    accuracy                           0.65       229\n",
      "   macro avg       0.52      0.46      0.48       229\n",
      "weighted avg       0.65      0.65      0.64       229\n",
      "\n"
     ]
    },
    {
     "data": {
      "text/plain": [
       "<AxesSubplot:>"
      ]
     },
     "execution_count": 18,
     "metadata": {},
     "output_type": "execute_result"
    },
    {
     "data": {
      "image/png": "[encoded data removed]",
      "text/plain": [
       "<Figure size 432x288 with 2 Axes>"
      ]
     },
     "metadata": {
      "needs_background": "light"
     },
     "output_type": "display_data"
    }
   ],
   "source": [
    "y_svc = svc.predict(x_test)\n",
    "\n",
    "accuracy = accuracy_score(y_test, y_svc)\n",
    "cm_svc = confusion_matrix(y_test, y_svc)\n",
    "\n",
    "print(f'The accuracy score of Support Vector Machine Classifier is: {round(accuracy, 2)}.')\n",
    "print(f'The classification report for Support Vector Machine Classifier is: \\n {classification_report(y_test, y_svc)}')\n",
    "sns.heatmap(cm_svc, annot=True, cmap='YlGnBu', linewidths=0.3, xticklabels=[4, 5, 6, 7, 8], yticklabels=[4, 5, 6, 7, 8])"
   ]
  },
  {
   "cell_type": "markdown",
   "id": "0e1eec6f",
   "metadata": {},
   "source": [
    "Although accuracy scores were really close to each other of this algorithms at the training stage, we can see that there is a 4% difference after prediction. This shows us our best model is Random Forest Classifier with a 0.69 accuracy score at the prediction stage. \n",
    "\n",
    "Our prediction score is lower than training scores, this is mainly because we have artificial values in the training our training score is high. \n",
    "\n",
    "The classification report shows us our best prediction is with the quality score of 5. Than 7 and 6 is following it respectively. And f1 score is the harmonic mean of precision and recall. So we can see that, again the quality score of 5 has the best f1 score. Last but not least, in the confusion matrix we can see the predicted and real scores. This matrix shows us that we have 8 bad predictions, which are 2 score points away from the actual one and 1 really bad prediction which is 3 points away. But on the other hand, other mistakes are more tolerable since they are close to the target. "
   ]
  },
  {
   "cell_type": "markdown",
   "id": "35c995ce",
   "metadata": {},
   "source": [
    "# Discussion and Conclusion\n",
    "\n",
    "In our Wine Quality Score prediction task, we started with our project with a dataset which gives us information about the wines produced in the Vinho Verde region. In the first steps, we have overviewed our data and get knowledge about all attributes and target sets. After this, cleaning and getting the dataset ready for training our models. We have trained our classification models and got accuracy scores to compare which ones fit better for our dataset. As the last part, we had the prediction scores for our best models, where Random Forest Classifier had the best score.\n",
    "\n",
    "Our prediction task of Wine Quality Score with the given dataset about \"Vinho Verde\" wines ends up with a 0.69 accuracy score. Although this is not a score which is good enough, since our dataset is small this is the best score that we can reach with classification methods. Our model can give better results with more datapoints. Also other methods of machine learning can be applied for further analysis. The methods which can be useful are as follows: Clustering, neural networks, etc. Also feature selection can be considered. \n",
    "\n",
    "As conclusion, we can say that our prediction model will improve with a bigger dataset, which will give us better predictions in the end. But with the dataset we have, gives us a chance to predict Wine Quality Score with an accuracy score of 0.69 using Random Forest Classifier."
   ]
  }
 ],
 "metadata": {
  "kernelspec": {
   "display_name": "Python 3 (ipykernel)",
   "language": "python",
   "name": "python3"
  },
  "language_info": {
   "codemirror_mode": {
    "name": "ipython",
    "version": 3
   },
   "file_extension": ".py",
   "mimetype": "text/x-python",
   "name": "python",
   "nbconvert_exporter": "python",
   "pygments_lexer": "ipython3",
   "version": "3.8.12"
  }
 },
 "nbformat": 4,
 "nbformat_minor": 5
}
